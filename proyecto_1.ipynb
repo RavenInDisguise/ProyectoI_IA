{
 "cells": [
  {
   "cell_type": "markdown",
   "metadata": {},
   "source": [
    "# Carga del dataset \"Pima Indians Diabetes Database\""
   ]
  },
  {
   "cell_type": "code",
   "execution_count": 1,
   "metadata": {},
   "outputs": [],
   "source": [
    "import pandas as pd\n",
    "import matplotlib.pyplot as plt\n",
    "from sklearn.model_selection import train_test_split\n",
    "from IPython.display import display\n",
    "from sklearn.neighbors import KNeighborsClassifier\n",
    "from sklearn.metrics import accuracy_score, precision_score, recall_score"
   ]
  },
  {
   "cell_type": "code",
   "execution_count": null,
   "metadata": {},
   "outputs": [],
   "source": [
    "data = pd.read_csv('diabetes.csv')\n",
    "print(\"data head\")\n",
    "display(data.head())\n",
    "print(\"data describe\")\n",
    "display(data.describe())\n",
    "display(data)\n",
    "\n",
    "X = data[[\n",
    "    'Pregnancies',\n",
    "    'Glucose',\n",
    "    'BloodPressure',\n",
    "    'SkinThickness',\n",
    "    'Insulin',\n",
    "    'BMI',\n",
    "    'DiabetesPedigreeFunction',\n",
    "    'Age'\n",
    "]].values\n",
    "\n",
    "y = data['Outcome']"
   ]
  },
  {
   "cell_type": "code",
   "execution_count": null,
   "metadata": {},
   "outputs": [],
   "source": [
    "dataGroup = data.groupby('Outcome')\n",
    "plt.figure(figsize=(15, 8))\n",
    "plt.hist(dataGroup['Pregnancies'].get_group(0), bins=30, alpha=0.5, label='0')\n",
    "plt.hist(dataGroup['Pregnancies'].get_group(1), bins=30, alpha=0.5, label='1')\n",
    "plt.title('Histograma de Diabetes - Embarazos')\n",
    "plt.xlabel('Embarazos')\n",
    "plt.ylabel('Personas')\n",
    "plt.grid(True)\n",
    "plt.legend()\n",
    "plt.show()"
   ]
  },
  {
   "cell_type": "code",
   "execution_count": null,
   "metadata": {},
   "outputs": [],
   "source": [
    "plt.figure(figsize=(15, 8))\n",
    "plt.hist(dataGroup['Glucose'].get_group(0), bins=30, alpha=0.5, label='0')\n",
    "plt.hist(dataGroup['Glucose'].get_group(1), bins=30, alpha=0.5, label='1')\n",
    "plt.title('Histograma de Diabetes - Glucosa')\n",
    "plt.xlabel('Glucosa')\n",
    "plt.ylabel('Personas')\n",
    "plt.grid(True)\n",
    "plt.legend()\n",
    "plt.show()"
   ]
  },
  {
   "cell_type": "code",
   "execution_count": null,
   "metadata": {},
   "outputs": [],
   "source": [
    "plt.figure(figsize=(15, 8))\n",
    "plt.hist(dataGroup['BloodPressure'].get_group(0), bins=30, alpha=0.5, label='0')\n",
    "plt.hist(dataGroup['BloodPressure'].get_group(1), bins=30, alpha=0.5, label='1')\n",
    "plt.title('Histograma de Diabetes - Presion Sanguinea')\n",
    "plt.xlabel('Presion Sanguinea')\n",
    "plt.ylabel('Personas')\n",
    "plt.grid(True)\n",
    "plt.legend()\n",
    "plt.show()"
   ]
  },
  {
   "cell_type": "code",
   "execution_count": null,
   "metadata": {},
   "outputs": [],
   "source": [
    "plt.figure(figsize=(15, 8))\n",
    "plt.hist(dataGroup['SkinThickness'].get_group(0), bins=30, alpha=0.5, label='0')\n",
    "plt.hist(dataGroup['SkinThickness'].get_group(1), bins=30, alpha=0.5, label='1')\n",
    "plt.title('Histograma de Diabetes - Grosor de Piel')\n",
    "plt.xlabel('Grosor de Piel')\n",
    "plt.ylabel('Personas')\n",
    "plt.grid(True)\n",
    "plt.legend()\n",
    "plt.show()"
   ]
  },
  {
   "cell_type": "code",
   "execution_count": null,
   "metadata": {},
   "outputs": [],
   "source": [
    "plt.figure(figsize=(15, 8))\n",
    "plt.hist(dataGroup['Insulin'].get_group(0), bins=30, alpha=0.5, label='0')\n",
    "plt.hist(dataGroup['Insulin'].get_group(1), bins=30, alpha=0.5, label='1')\n",
    "plt.title('Histograma de Diabetes - Insulina')\n",
    "plt.xlabel('Insulina')\n",
    "plt.ylabel('Personas')\n",
    "plt.grid(True)\n",
    "plt.legend()\n",
    "plt.show()"
   ]
  },
  {
   "cell_type": "code",
   "execution_count": null,
   "metadata": {},
   "outputs": [],
   "source": [
    "plt.figure(figsize=(15, 8))\n",
    "plt.hist(dataGroup['BMI'].get_group(0), bins=30, alpha=0.5, label='0')\n",
    "plt.hist(dataGroup['BMI'].get_group(1), bins=30, alpha=0.5, label='1')\n",
    "plt.title('Histograma de Diabetes - BMI')\n",
    "plt.xlabel('BMI')\n",
    "plt.ylabel('Personas')\n",
    "plt.grid(True)\n",
    "plt.legend()\n",
    "plt.show()"
   ]
  },
  {
   "cell_type": "code",
   "execution_count": null,
   "metadata": {},
   "outputs": [],
   "source": [
    "plt.figure(figsize=(15, 8))\n",
    "plt.hist(dataGroup['DiabetesPedigreeFunction'].get_group(0), bins=30, alpha=0.5, label='0')\n",
    "plt.hist(dataGroup['DiabetesPedigreeFunction'].get_group(1), bins=30, alpha=0.5, label='1')\n",
    "plt.title('Histograma de Diabetes - DiabetesPedigreeFunction')\n",
    "plt.xlabel('DiabetesPedigreeFunction')\n",
    "plt.ylabel('Personas')\n",
    "plt.grid(True)\n",
    "plt.legend()\n",
    "plt.show()"
   ]
  },
  {
   "cell_type": "code",
   "execution_count": null,
   "metadata": {},
   "outputs": [],
   "source": [
    "plt.figure(figsize=(15, 8))\n",
    "plt.hist(dataGroup['Age'].get_group(0), bins=30, alpha=0.5, label='0')\n",
    "plt.hist(dataGroup['Age'].get_group(1), bins=30, alpha=0.5, label='1')\n",
    "plt.title('Histograma de Diabetes - Edad')\n",
    "plt.xlabel('Edad')\n",
    "plt.ylabel('Personas')\n",
    "plt.grid(True)\n",
    "plt.legend()\n",
    "plt.show()"
   ]
  },
  {
   "cell_type": "markdown",
   "metadata": {},
   "source": [
    "# Carga del dataset \"The Spotify Hit Predictor Dataset (1960-2019)\" específico del 2010 al 2019"
   ]
  },
  {
   "cell_type": "code",
   "execution_count": null,
   "metadata": {},
   "outputs": [],
   "source": [
    "data = pd.read_csv('dataset-of-10s.csv')\n",
    "print(\"data head\")\n",
    "display(data.head())\n",
    "print(\"data info\")\n",
    "display(data.describe())"
   ]
  },
  {
   "cell_type": "code",
   "execution_count": null,
   "metadata": {},
   "outputs": [],
   "source": []
  }
 ],
 "metadata": {
  "kernelspec": {
   "display_name": "Python 3",
   "language": "python",
   "name": "python3"
  },
  "language_info": {
   "codemirror_mode": {
    "name": "ipython",
    "version": 3
   },
   "file_extension": ".py",
   "mimetype": "text/x-python",
   "name": "python",
   "nbconvert_exporter": "python",
   "pygments_lexer": "ipython3",
   "version": "3.10.2"
  }
 },
 "nbformat": 4,
 "nbformat_minor": 2
}
