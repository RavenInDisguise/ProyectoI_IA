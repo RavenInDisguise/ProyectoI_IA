{
 "cells": [
  {
   "cell_type": "markdown",
   "metadata": {},
   "source": [
    "# Proyecto I \n",
    "* Monica Alfaro Parrales\n",
    "* Adrián Ramírez Mattey\n",
    "* Gilberth Rodríguez Mejías "
   ]
  },
  {
   "cell_type": "markdown",
   "metadata": {},
   "source": [
    "## Carga del dataset \"Pima Indians Diabetes Database\""
   ]
  },
  {
   "cell_type": "code",
   "execution_count": 3,
   "metadata": {},
   "outputs": [],
   "source": [
    "import pandas as pd\n",
    "import numpy as np\n",
    "import matplotlib.pyplot as plt\n",
    "from sklearn.model_selection import train_test_split\n",
    "from IPython.display import display\n",
    "from sklearn.neighbors import KNeighborsClassifier\n",
    "from sklearn.metrics import accuracy_score, precision_score, recall_score"
   ]
  },
  {
   "cell_type": "code",
   "execution_count": null,
   "metadata": {},
   "outputs": [],
   "source": [
    "data = pd.read_csv('diabetes.csv')\n",
    "print(\"data head\")\n",
    "display(data.head())\n",
    "print(\"data describe\")\n",
    "display(data.describe())\n",
    "display(data)\n",
    "\n",
    "X = data[[\n",
    "    'Pregnancies',\n",
    "    'Glucose',\n",
    "    'BloodPressure',\n",
    "    'SkinThickness',\n",
    "    'Insulin',\n",
    "    'BMI',\n",
    "    'DiabetesPedigreeFunction',\n",
    "    'Age'\n",
    "]].values\n",
    "\n",
    "y = data['Outcome']"
   ]
  },
  {
   "cell_type": "markdown",
   "metadata": {},
   "source": [
    "## Eliminación de outliers y división del dataset\n",
    "Se procede a hacer uso de IQR, el rango intercuartil (IQR) es la diferencia entre el percentil 75 y el 25 de los datos. Es una medida de dispersión similar a la desviación estándar o la varianza, pero es mucho más robusta frente a valores atípicos. Posteriormente, se hace un shuffle de la data para asegurar una mayor distribución y se divide el dataset en un 80% training y 20% testing. "
   ]
  },
  {
   "cell_type": "code",
   "execution_count": null,
   "metadata": {},
   "outputs": [],
   "source": [
    "# Calcula el IQR\n",
    "Q1 = data.quantile(0.25)\n",
    "Q3 = data.quantile(0.75)\n",
    "IQR = Q3 - Q1\n",
    "\n",
    "# Identifica los outliers\n",
    "outliers = ((data < (Q1 - 1.5 * IQR)) | (data > (Q3 + 1.5 * IQR)))\n",
    "\n",
    "# Encuentra las filas que tienen al menos un outlier\n",
    "outliers_indices = outliers.any(axis=1)\n",
    "\n",
    "# Muestra las filas con outliers\n",
    "print(\"Filas con outliers:\")\n",
    "print(data[outliers_indices])\n",
    "\n",
    "# Elimina los outliers\n",
    "data_sin_outliers = data[~outliers_indices]\n",
    "\n",
    "# Muestra el conjunto de datos sin outliers\n",
    "print(\"Data sin outliers:\")\n",
    "print(data_sin_outliers)"
   ]
  },
  {
   "cell_type": "code",
   "execution_count": 6,
   "metadata": {},
   "outputs": [
    {
     "name": "stdout",
     "output_type": "stream",
     "text": [
      "Ejemplos usados para entrenar:  511\n",
      "Ejemplos usados para test:  128\n"
     ]
    }
   ],
   "source": [
    "from sklearn.utils import shuffle\n",
    "\n",
    "# Antes de dividir los datos, barajamos el dataset de forma aleatoria para mayor diversidad de datos\n",
    "dataset_shuffled = shuffle(data_sin_outliers, random_state=50)  # random_state para reproducibilidad\n",
    "\n",
    "# Dividir los datos en conjunto de entrenamiento y prueba\n",
    "p_train = 0.8  # Porcentaje de training set\n",
    "train_index = int(len(dataset_shuffled) * p_train)\n",
    "\n",
    "dataFrameTraining = dataset_shuffled[:train_index]\n",
    "\n",
    "dataFrameTesting = dataset_shuffled[train_index:]\n",
    "\n",
    "print(\"Ejemplos usados para entrenar: \", len(dataFrameTraining))\n",
    "print(\"Ejemplos usados para test: \", len(dataFrameTesting))"
   ]
  },
  {
   "cell_type": "markdown",
   "metadata": {},
   "source": [
    "## Análisis de datos"
   ]
  },
  {
   "cell_type": "code",
   "execution_count": null,
   "metadata": {},
   "outputs": [],
   "source": [
    "dataGroup = data.groupby('Outcome')\n",
    "plt.figure(figsize=(15, 8))\n",
    "plt.hist(dataGroup['Pregnancies'].get_group(0), bins=30, alpha=0.5, label='0')\n",
    "plt.hist(dataGroup['Pregnancies'].get_group(1), bins=30, alpha=0.5, label='1')\n",
    "plt.title('Histograma de Diabetes - Embarazos')\n",
    "plt.xlabel('Embarazos')\n",
    "plt.ylabel('Personas')\n",
    "plt.grid(True)\n",
    "plt.legend()\n",
    "plt.show()"
   ]
  },
  {
   "cell_type": "code",
   "execution_count": null,
   "metadata": {},
   "outputs": [],
   "source": [
    "plt.figure(figsize=(15, 8))\n",
    "plt.hist(dataGroup['Glucose'].get_group(0), bins=30, alpha=0.5, label='0')\n",
    "plt.hist(dataGroup['Glucose'].get_group(1), bins=30, alpha=0.5, label='1')\n",
    "plt.title('Histograma de Diabetes - Glucosa')\n",
    "plt.xlabel('Glucosa')\n",
    "plt.ylabel('Personas')\n",
    "plt.grid(True)\n",
    "plt.legend()\n",
    "plt.show()"
   ]
  },
  {
   "cell_type": "code",
   "execution_count": null,
   "metadata": {},
   "outputs": [],
   "source": [
    "plt.figure(figsize=(15, 8))\n",
    "plt.hist(dataGroup['BloodPressure'].get_group(0), bins=30, alpha=0.5, label='0')\n",
    "plt.hist(dataGroup['BloodPressure'].get_group(1), bins=30, alpha=0.5, label='1')\n",
    "plt.title('Histograma de Diabetes - Presion Sanguinea')\n",
    "plt.xlabel('Presion Sanguinea')\n",
    "plt.ylabel('Personas')\n",
    "plt.grid(True)\n",
    "plt.legend()\n",
    "plt.show()"
   ]
  },
  {
   "cell_type": "code",
   "execution_count": null,
   "metadata": {},
   "outputs": [],
   "source": [
    "plt.figure(figsize=(15, 8))\n",
    "plt.hist(dataGroup['SkinThickness'].get_group(0), bins=30, alpha=0.5, label='0')\n",
    "plt.hist(dataGroup['SkinThickness'].get_group(1), bins=30, alpha=0.5, label='1')\n",
    "plt.title('Histograma de Diabetes - Grosor de Piel')\n",
    "plt.xlabel('Grosor de Piel')\n",
    "plt.ylabel('Personas')\n",
    "plt.grid(True)\n",
    "plt.legend()\n",
    "plt.show()"
   ]
  },
  {
   "cell_type": "code",
   "execution_count": null,
   "metadata": {},
   "outputs": [],
   "source": [
    "plt.figure(figsize=(15, 8))\n",
    "plt.hist(dataGroup['Insulin'].get_group(0), bins=30, alpha=0.5, label='0')\n",
    "plt.hist(dataGroup['Insulin'].get_group(1), bins=30, alpha=0.5, label='1')\n",
    "plt.title('Histograma de Diabetes - Insulina')\n",
    "plt.xlabel('Insulina')\n",
    "plt.ylabel('Personas')\n",
    "plt.grid(True)\n",
    "plt.legend()\n",
    "plt.show()"
   ]
  },
  {
   "cell_type": "code",
   "execution_count": null,
   "metadata": {},
   "outputs": [],
   "source": [
    "plt.figure(figsize=(15, 8))\n",
    "plt.hist(dataGroup['BMI'].get_group(0), bins=30, alpha=0.5, label='0')\n",
    "plt.hist(dataGroup['BMI'].get_group(1), bins=30, alpha=0.5, label='1')\n",
    "plt.title('Histograma de Diabetes - BMI')\n",
    "plt.xlabel('BMI')\n",
    "plt.ylabel('Personas')\n",
    "plt.grid(True)\n",
    "plt.legend()\n",
    "plt.show()"
   ]
  },
  {
   "cell_type": "code",
   "execution_count": null,
   "metadata": {},
   "outputs": [],
   "source": [
    "plt.figure(figsize=(15, 8))\n",
    "plt.hist(dataGroup['DiabetesPedigreeFunction'].get_group(0), bins=30, alpha=0.5, label='0')\n",
    "plt.hist(dataGroup['DiabetesPedigreeFunction'].get_group(1), bins=30, alpha=0.5, label='1')\n",
    "plt.title('Histograma de Diabetes - DiabetesPedigreeFunction')\n",
    "plt.xlabel('DiabetesPedigreeFunction')\n",
    "plt.ylabel('Personas')\n",
    "plt.grid(True)\n",
    "plt.legend()\n",
    "plt.show()"
   ]
  },
  {
   "cell_type": "code",
   "execution_count": null,
   "metadata": {},
   "outputs": [],
   "source": [
    "plt.figure(figsize=(15, 8))\n",
    "plt.hist(dataGroup['Age'].get_group(0), bins=30, alpha=0.5, label='0')\n",
    "plt.hist(dataGroup['Age'].get_group(1), bins=30, alpha=0.5, label='1')\n",
    "plt.title('Histograma de Diabetes - Edad')\n",
    "plt.xlabel('Edad')\n",
    "plt.ylabel('Personas')\n",
    "plt.grid(True)\n",
    "plt.legend()\n",
    "plt.show()"
   ]
  },
  {
   "cell_type": "markdown",
   "metadata": {},
   "source": [
    "# Carga del dataset \"The Spotify Hit Predictor Dataset (1960-2019)\" específico del 2010 al 2019"
   ]
  },
  {
   "cell_type": "code",
   "execution_count": null,
   "metadata": {},
   "outputs": [],
   "source": [
    "data = pd.read_csv('dataset-of-10s.csv')\n",
    "print(\"data head\")\n",
    "display(data.head())\n",
    "print(\"data info\")\n",
    "display(data.describe())"
   ]
  }
 ],
 "metadata": {
  "kernelspec": {
   "display_name": "Python 3",
   "language": "python",
   "name": "python3"
  },
  "language_info": {
   "codemirror_mode": {
    "name": "ipython",
    "version": 3
   },
   "file_extension": ".py",
   "mimetype": "text/x-python",
   "name": "python",
   "nbconvert_exporter": "python",
   "pygments_lexer": "ipython3",
   "version": "3.10.2"
  }
 },
 "nbformat": 4,
 "nbformat_minor": 2
}
