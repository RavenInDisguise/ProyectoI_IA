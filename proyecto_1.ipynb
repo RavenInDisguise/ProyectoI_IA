{
 "cells": [
  {
   "cell_type": "markdown",
   "metadata": {},
   "source": [
    "# Proyecto I \n",
    "* Monica Alfaro Parrales\n",
    "* Adrián Ramírez Mattey\n",
    "* Gilberth Rodríguez Mejías "
   ]
  },
  {
   "cell_type": "markdown",
   "metadata": {},
   "source": [
    "## Carga del dataset \"Pima Indians Diabetes Database\""
   ]
  },
  {
   "cell_type": "code",
   "execution_count": null,
   "metadata": {},
   "outputs": [],
   "source": [
    "import pandas as pd\n",
    "import numpy as np\n",
    "import seaborn as sns\n",
    "import matplotlib.pyplot as plt\n",
    "from sklearn.utils import shuffle\n",
    "from sklearn.model_selection import train_test_split\n",
    "from sklearn.neural_network import MLPClassifier\n",
    "from IPython.display import display\n",
    "from sklearn.neighbors import KNeighborsClassifier\n",
    "from sklearn.metrics import accuracy_score, precision_score, recall_score, f1_score, roc_curve, roc_auc_score"
   ]
  },
  {
   "cell_type": "code",
   "execution_count": null,
   "metadata": {},
   "outputs": [],
   "source": [
    "data = pd.read_csv('diabetes.csv')\n",
    "print(\"data head\")\n",
    "display(data.head())\n",
    "print(\"data describe\")\n",
    "display(data.describe())\n",
    "display(data)\n",
    "\n",
    "X = data[[\n",
    "    'Pregnancies',\n",
    "    'Glucose',\n",
    "    'BloodPressure',\n",
    "    'SkinThickness',\n",
    "    'Insulin',\n",
    "    'BMI',\n",
    "    'DiabetesPedigreeFunction',\n",
    "    'Age'\n",
    "]].values\n",
    "\n",
    "y = data['Outcome']"
   ]
  },
  {
   "cell_type": "markdown",
   "metadata": {},
   "source": [
    "## Análisis de datos\n",
    "1 = Diabetes\n",
    "\n",
    "0 = No diabetes"
   ]
  },
  {
   "cell_type": "markdown",
   "metadata": {},
   "source": [
    "### Gráficos de dispersión "
   ]
  },
  {
   "cell_type": "code",
   "execution_count": null,
   "metadata": {},
   "outputs": [],
   "source": [
    "sns.scatterplot(x='Pregnancies', y='Age', hue='Outcome', data=data, )\n",
    "\n",
    "# Mostrar el gráfico\n",
    "plt.title(\"Gráfico de Dispersión de Embarazos\")\n",
    "plt.xlabel(\"Embarazos\")\n",
    "plt.ylabel(\"Edad\")\n",
    "plt.show()"
   ]
  },
  {
   "cell_type": "code",
   "execution_count": null,
   "metadata": {},
   "outputs": [],
   "source": [
    "sns.scatterplot(x='Glucose', y='Age', hue='Outcome', data=data, )\n",
    "\n",
    "# Mostrar el gráfico\n",
    "plt.title(\"Gráfico de Dispersión de Glucosa\")\n",
    "plt.xlabel(\"Glucosa\")\n",
    "plt.ylabel(\"Edad\")\n",
    "plt.show()"
   ]
  },
  {
   "cell_type": "code",
   "execution_count": null,
   "metadata": {},
   "outputs": [],
   "source": [
    "sns.scatterplot(x='BloodPressure', y='Age', hue='Outcome', data=data, )\n",
    "\n",
    "# Mostrar el gráfico\n",
    "plt.title(\"Gráfico de Dispersión de Presión Arterial\")\n",
    "plt.xlabel(\"Presión arterial\")\n",
    "plt.ylabel(\"Edad\")\n",
    "plt.show()"
   ]
  },
  {
   "cell_type": "code",
   "execution_count": null,
   "metadata": {},
   "outputs": [],
   "source": [
    "sns.scatterplot(x='SkinThickness', y='Age', hue='Outcome', data=data, )\n",
    "\n",
    "# Mostrar el gráfico\n",
    "plt.title(\"Gráfico de Dispersión de Grosor de la piel\")\n",
    "plt.xlabel(\"Grosor de la piel\")\n",
    "plt.ylabel(\"Edad\")\n",
    "plt.show()"
   ]
  },
  {
   "cell_type": "code",
   "execution_count": null,
   "metadata": {},
   "outputs": [],
   "source": [
    "sns.scatterplot(x='Insulin', y='Age', hue='Outcome', data=data, )\n",
    "\n",
    "# Mostrar el gráfico\n",
    "plt.title(\"Gráfico de Dispersión de Insulina\")\n",
    "plt.xlabel(\"Insulina\")\n",
    "plt.ylabel(\"Edad\")\n",
    "plt.show()"
   ]
  },
  {
   "cell_type": "code",
   "execution_count": null,
   "metadata": {},
   "outputs": [],
   "source": [
    "sns.scatterplot(x='BMI', y='Age', hue='Outcome', data=data, )\n",
    "\n",
    "# Mostrar el gráfico\n",
    "plt.title(\"Gráfico de Dispersión de BMI\")\n",
    "plt.xlabel(\"BMI\")\n",
    "plt.ylabel(\"Edad\")\n",
    "plt.show()"
   ]
  },
  {
   "cell_type": "code",
   "execution_count": null,
   "metadata": {},
   "outputs": [],
   "source": [
    "sns.scatterplot(x='DiabetesPedigreeFunction', y='Age', hue='Outcome', data=data, )\n",
    "\n",
    "# Mostrar el gráfico\n",
    "plt.title(\"Gráfico de Dispersión de Diabetes Pedigree\")\n",
    "plt.xlabel(\"Diabetes Pedigree\")\n",
    "plt.ylabel(\"Edad\")\n",
    "plt.show()"
   ]
  },
  {
   "cell_type": "markdown",
   "metadata": {},
   "source": [
    "\n",
    "### Histogramas"
   ]
  },
  {
   "cell_type": "code",
   "execution_count": null,
   "metadata": {},
   "outputs": [],
   "source": [
    "dataGroup = data.groupby('Outcome')\n",
    "plt.figure(figsize=(15, 8))\n",
    "plt.hist(dataGroup['Pregnancies'].get_group(0), bins=30, alpha=0.5, label='0')\n",
    "plt.hist(dataGroup['Pregnancies'].get_group(1), bins=30, alpha=0.5, label='1')\n",
    "plt.title('Histograma de Diabetes - Embarazos')\n",
    "plt.xlabel('Embarazos')\n",
    "plt.ylabel('Personas')\n",
    "plt.grid(True)\n",
    "plt.legend()\n",
    "plt.show()"
   ]
  },
  {
   "cell_type": "code",
   "execution_count": null,
   "metadata": {},
   "outputs": [],
   "source": [
    "plt.figure(figsize=(15, 8))\n",
    "plt.hist(dataGroup['Glucose'].get_group(0), bins=30, alpha=0.5, label='0')\n",
    "plt.hist(dataGroup['Glucose'].get_group(1), bins=30, alpha=0.5, label='1')\n",
    "plt.title('Histograma de Diabetes - Glucosa')\n",
    "plt.xlabel('Glucosa')\n",
    "plt.ylabel('Personas')\n",
    "plt.grid(True)\n",
    "plt.legend()\n",
    "plt.show()"
   ]
  },
  {
   "cell_type": "code",
   "execution_count": null,
   "metadata": {},
   "outputs": [],
   "source": [
    "plt.figure(figsize=(15, 8))\n",
    "plt.hist(dataGroup['Insulin'].get_group(0), bins=30, alpha=0.5, label='0')\n",
    "plt.hist(dataGroup['Insulin'].get_group(1), bins=30, alpha=0.5, label='1')\n",
    "plt.title('Histograma de Diabetes - Insulina')\n",
    "plt.xlabel('Insulina')\n",
    "plt.ylabel('Personas')\n",
    "plt.grid(True)\n",
    "plt.legend()\n",
    "plt.show()"
   ]
  },
  {
   "cell_type": "code",
   "execution_count": null,
   "metadata": {},
   "outputs": [],
   "source": [
    "plt.figure(figsize=(15, 8))\n",
    "plt.hist(dataGroup['BMI'].get_group(0), bins=30, alpha=0.5, label='0')\n",
    "plt.hist(dataGroup['BMI'].get_group(1), bins=30, alpha=0.5, label='1')\n",
    "plt.title('Histograma de Diabetes - BMI')\n",
    "plt.xlabel('BMI')\n",
    "plt.ylabel('Personas')\n",
    "plt.grid(True)\n",
    "plt.legend()\n",
    "plt.show()"
   ]
  },
  {
   "cell_type": "code",
   "execution_count": null,
   "metadata": {},
   "outputs": [],
   "source": [
    "plt.figure(figsize=(15, 8))\n",
    "plt.hist(dataGroup['DiabetesPedigreeFunction'].get_group(0), bins=30, alpha=0.5, label='0')\n",
    "plt.hist(dataGroup['DiabetesPedigreeFunction'].get_group(1), bins=30, alpha=0.5, label='1')\n",
    "plt.title('Histograma de Diabetes - DiabetesPedigreeFunction')\n",
    "plt.xlabel('DiabetesPedigreeFunction')\n",
    "plt.ylabel('Personas')\n",
    "plt.grid(True)\n",
    "plt.legend()\n",
    "plt.show()"
   ]
  },
  {
   "cell_type": "code",
   "execution_count": null,
   "metadata": {},
   "outputs": [],
   "source": [
    "plt.figure(figsize=(15, 8))\n",
    "plt.hist(dataGroup['Age'].get_group(0), bins=30, alpha=0.5, label='0')\n",
    "plt.hist(dataGroup['Age'].get_group(1), bins=30, alpha=0.5, label='1')\n",
    "plt.title('Histograma de Diabetes - Edad')\n",
    "plt.xlabel('Edad')\n",
    "plt.ylabel('Personas')\n",
    "plt.grid(True)\n",
    "plt.legend()\n",
    "plt.show()"
   ]
  },
  {
   "cell_type": "markdown",
   "metadata": {},
   "source": [
    "## Eliminación de outliers y división del dataset\n",
    "Se procede a hacer uso de IQR, el rango intercuartil (IQR) es la diferencia entre el percentil 75 y el 25 de los datos. Es una medida de dispersión similar a la desviación estándar o la varianza, pero es mucho más robusta frente a valores atípicos. Posteriormente, se hace un shuffle de la data para asegurar una mayor distribución y se divide el dataset en un 80% training y 20% testing. "
   ]
  },
  {
   "cell_type": "code",
   "execution_count": null,
   "metadata": {},
   "outputs": [],
   "source": [
    "# Calcula el IQR\n",
    "Q1 = data.quantile(0.25)\n",
    "Q3 = data.quantile(0.75)\n",
    "IQR = Q3 - Q1\n",
    "\n",
    "# Identifica los outliers\n",
    "outliers = ((data < (Q1 - 1.5 * IQR)) | (data > (Q3 + 1.5 * IQR)))\n",
    "\n",
    "# Encuentra las filas que tienen al menos un outlier\n",
    "outliers_indices = outliers.any(axis=1)\n",
    "\n",
    "# Muestra las filas con outliers\n",
    "print(\"Filas con outliers:\")\n",
    "display(data[outliers_indices])\n",
    "\n",
    "# Elimina los outliers\n",
    "data_sin_outliers = data[~outliers_indices]\n",
    "\n",
    "# Muestra el conjunto de datos sin outliers\n",
    "print(\"Data sin outliers:\")\n",
    "display(data_sin_outliers)\n",
    "\n",
    "# Estadísticas del conjunto de datos sin outliers\n",
    "print(\"Data sin outliers\")\n",
    "display(data_sin_outliers.describe())"
   ]
  },
  {
   "cell_type": "markdown",
   "metadata": {},
   "source": [
    "### Gráficos de dispersión posterior a eliminación de outliers"
   ]
  },
  {
   "cell_type": "code",
   "execution_count": null,
   "metadata": {},
   "outputs": [],
   "source": [
    "sns.scatterplot(x='Pregnancies', y='Age', hue='Outcome', data=data_sin_outliers, )\n",
    "\n",
    "# Mostrar el gráfico\n",
    "plt.title(\"Gráfico de Dispersión de Embarazos (no outliers)\")\n",
    "plt.xlabel(\"Embarazos\")\n",
    "plt.ylabel(\"Edad\")\n",
    "plt.show()"
   ]
  },
  {
   "cell_type": "code",
   "execution_count": null,
   "metadata": {},
   "outputs": [],
   "source": [
    "sns.scatterplot(x='Glucose', y='Age', hue='Outcome', data=data_sin_outliers )\n",
    "\n",
    "# Mostrar el gráfico\n",
    "plt.title(\"Gráfico de Dispersión de Glucosa (no outliers)\")\n",
    "plt.xlabel(\"Glucosa\")\n",
    "plt.ylabel(\"Edad\")\n",
    "plt.show()\n"
   ]
  },
  {
   "cell_type": "code",
   "execution_count": null,
   "metadata": {},
   "outputs": [],
   "source": [
    "sns.scatterplot(x='BloodPressure', y='Age', hue='Outcome', data=data_sin_outliers, )\n",
    "\n",
    "# Mostrar el gráfico\n",
    "plt.title(\"Gráfico de Dispersión de Presión Arterial (no outliers)\")\n",
    "plt.xlabel(\"Presión arterial\")\n",
    "plt.ylabel(\"Edad\")\n",
    "plt.show()\n"
   ]
  },
  {
   "cell_type": "code",
   "execution_count": null,
   "metadata": {},
   "outputs": [],
   "source": [
    "sns.scatterplot(x='SkinThickness', y='Age', hue='Outcome', data=data_sin_outliers, )\n",
    "\n",
    "# Mostrar el gráfico\n",
    "plt.title(\"Gráfico de Dispersión de Grosor de la piel (no outliers)\")\n",
    "plt.xlabel(\"Grosor de la piel\")\n",
    "plt.ylabel(\"Edad\")\n",
    "plt.show()"
   ]
  },
  {
   "cell_type": "code",
   "execution_count": null,
   "metadata": {},
   "outputs": [],
   "source": [
    "sns.scatterplot(x='Insulin', y='Age', hue='Outcome', data=data_sin_outliers )\n",
    "\n",
    "# Mostrar el gráfico\n",
    "plt.title(\"Gráfico de Dispersión de Insulina (no outliers)\")\n",
    "plt.xlabel(\"Insulina\")\n",
    "plt.ylabel(\"Edad\")\n",
    "plt.show()"
   ]
  },
  {
   "cell_type": "code",
   "execution_count": null,
   "metadata": {},
   "outputs": [],
   "source": [
    "sns.scatterplot(x='BMI', y='Age', hue='Outcome', data=data_sin_outliers)\n",
    "\n",
    "# Mostrar el gráfico\n",
    "plt.title(\"Gráfico de Dispersión de BMI (no outliers)\")\n",
    "plt.xlabel(\"BMI\")\n",
    "plt.ylabel(\"Edad\")\n",
    "plt.show()"
   ]
  },
  {
   "cell_type": "code",
   "execution_count": null,
   "metadata": {},
   "outputs": [],
   "source": [
    "sns.scatterplot(x='DiabetesPedigreeFunction', y='Age', hue='Outcome', data=data_sin_outliers, )\n",
    "\n",
    "# Mostrar el gráfico\n",
    "plt.title(\"Gráfico de Dispersión de Diabetes Pedigree (no outliers)\")\n",
    "plt.xlabel(\"Diabetes Pedigree\")\n",
    "plt.ylabel(\"Edad\")\n",
    "plt.show()"
   ]
  },
  {
   "cell_type": "markdown",
   "metadata": {},
   "source": [
    "### Actualizacion de datos en 0 y normalización"
   ]
  },
  {
   "cell_type": "code",
   "execution_count": null,
   "metadata": {},
   "outputs": [],
   "source": [
    "'''\n",
    "Media de los datos sin outliers\n",
    "Pregnancies\tGlucose\t    BloodPressure\tSkinThickness\tInsulin\t    BMI\t        DiabetesPedigreeFunction\tAge\n",
    "3.804382\t119.112676\t72.120501\t    20.563380\t    65.931142\t32.00579\t0.429177\t                32.715180\n",
    "'''\n",
    "data_sin_ceros = data_sin_outliers.copy()\n",
    "data_sin_ceros.loc[data_sin_ceros['Pregnancies'] == 0, 'Pregnancies'] = 4 #Numeros enteros en el data set se rendondea 3.804382 a 4\n",
    "data_sin_ceros.loc[data_sin_ceros['Glucose'] == 0, 'Glucose'] = 120 #Numeros enteros en el data set se rendondea  119.112676 a 120\n",
    "data_sin_ceros.loc[data_sin_ceros['BloodPressure'] == 0, 'BloodPressure'] = 72 #Numeros enteros en el data set se rendondea 72.120501 a 72\n",
    "data_sin_ceros.loc[data_sin_ceros['SkinThickness'] == 0, 'SkinThickness'] = 21 #Numeros enteros en el data set se rendondea 20.563380 a 21\n",
    "data_sin_ceros.loc[data_sin_ceros['Insulin'] == 0, 'Insulin'] = 66 #Numeros enteros en el data set se rendondea 65.931142 a 80\n",
    "data_sin_ceros.loc[data_sin_ceros['BMI'] == 0, 'BMI'] = 32.0 #Numeros enteros en el data set se rendondea 32.00579 a 32.0\n",
    "data_sin_ceros.loc[data_sin_ceros['DiabetesPedigreeFunction'] == 0, 'DiabetesPedigreeFunction'] = 0.429 #Numeros enteros en el data set se rendondea 0.429177 a 0.429\n",
    "print(\"Data sin ceros\")\n",
    "display(data_sin_ceros.head())\n",
    "\n",
    "'''\n",
    "Normalizacion de los datos\n",
    "Minimos\n",
    "Pregnancies\tGlucose\t    BloodPressure\tSkinThickness\tInsulin\t    BMI\t        DiabetesPedigreeFunction\tAge\n",
    "0.000000\t44.000000\t38.000000\t    0.000000\t    0.000000\t18.20000\t0.078000\t                21.000000\n",
    "\n",
    "Maximos\n",
    "Pregnancies\tGlucose\t    BloodPressure\tSkinThickness\tInsulin\t    BMI\t        DiabetesPedigreeFunction\tAge\n",
    "13.000000\t198.000000\t106.000000\t    60.000000\t    318.000000\t50.00000\t1.191000\t                66.000000\t\n",
    "'''\n",
    "data_normalizada = data_sin_ceros.copy()\n",
    "data_normalizada['Pregnancies'] = (data_normalizada['Pregnancies'] - data_normalizada['Pregnancies'].min()) / (data_normalizada['Pregnancies'].max() - data_normalizada['Pregnancies'].min())\n",
    "data_normalizada['Glucose'] = (data_normalizada['Glucose'] - data_normalizada['Glucose'].min()) / (data_normalizada['Glucose'].max() - data_normalizada['Glucose'].min())\n",
    "data_normalizada['BloodPressure'] = (data_normalizada['BloodPressure'] - data_normalizada['BloodPressure'].min()) / (data_normalizada['BloodPressure'].max() - data_normalizada['BloodPressure'].min())\n",
    "data_normalizada['SkinThickness'] = (data_normalizada['SkinThickness'] - data_normalizada['SkinThickness'].min()) / (data_normalizada['SkinThickness'].max() - data_normalizada['SkinThickness'].min())\n",
    "data_normalizada['Insulin'] = (data_normalizada['Insulin'] - data_normalizada['Insulin'].min()) / (data_normalizada['Insulin'].max() - data_normalizada['Insulin'].min())\n",
    "data_normalizada['BMI'] = (data_normalizada['BMI'] - data_normalizada['BMI'].min()) / (data_normalizada['BMI'].max() - data_normalizada['BMI'].min())\n",
    "data_normalizada['DiabetesPedigreeFunction'] = (data_normalizada['DiabetesPedigreeFunction'] - data_normalizada['DiabetesPedigreeFunction'].min()) / (data_normalizada['DiabetesPedigreeFunction'].max() - data_normalizada['DiabetesPedigreeFunction'].min())\n",
    "data_normalizada['Age'] = (data_normalizada['Age'] - data_normalizada['Age'].min()) / (data_normalizada['Age'].max() - data_normalizada['Age'].min())\n",
    "print(\"Data normalizada\")\n",
    "display(data_normalizada.head())\n"
   ]
  },
  {
   "cell_type": "markdown",
   "metadata": {},
   "source": [
    "### División del dataset"
   ]
  },
  {
   "cell_type": "code",
   "execution_count": null,
   "metadata": {},
   "outputs": [],
   "source": [
    "# Antes de dividir los datos, barajamos el dataset de forma aleatoria para mayor diversidad de datos\n",
    "dataset_shuffled = shuffle(data_sin_outliers, random_state=20)  # random_state para reproducibilidad\n",
    "dataset_shuf_sin_ceros = shuffle(data_sin_ceros, random_state=20)  # random_state para reproducibilidad\n",
    "dataset_shuf_normalizada = shuffle(data_normalizada, random_state=20)  # random_state para reproducibilidad\n",
    "# random_state = 50 malos resultados en el modelo || random_state = 20 buenos resultados en el modelo\n",
    "\n",
    "# Dividir los datos en conjunto de entrenamiento y prueba\n",
    "p_train = 0.8  # Porcentaje de training set\n",
    "train_index = int(len(dataset_shuffled) * p_train)\n",
    "\n",
    "dataFrameTraining = dataset_shuffled[:train_index]\n",
    "dataFrameTraining_sin_ceros = dataset_shuf_sin_ceros[:train_index]\n",
    "dataFrameTraining_normalizada = dataset_shuf_normalizada[:train_index]\n",
    "\n",
    "dataFrameTesting = dataset_shuffled[train_index:]\n",
    "dataFrameTesting_sin_ceros = dataset_shuf_sin_ceros[train_index:]\n",
    "dataFrameTesting_normalizada = dataset_shuf_normalizada[train_index:]\n",
    "\n",
    "print(\"Ejemplos usados para entrenar: \", len(dataFrameTraining))\n",
    "print(\"Ejemplos usados para test: \", len(dataFrameTesting))"
   ]
  },
  {
   "cell_type": "code",
   "execution_count": null,
   "metadata": {},
   "outputs": [],
   "source": [
    "#Funcion para dividir los datos en x_train, y_train, x_test, y_test\n",
    "def xyDivide(dataFrameTraining, dataFrameTesting):\n",
    "    x_train = dataFrameTraining[[\n",
    "    'Pregnancies',\n",
    "    'Glucose',\n",
    "    'BloodPressure',\n",
    "    'SkinThickness',\n",
    "    'Insulin',\n",
    "    'BMI',\n",
    "    'DiabetesPedigreeFunction',\n",
    "    'Age'\n",
    "    ]].values\n",
    "\n",
    "    y_train = dataFrameTraining['Outcome']\n",
    "\n",
    "    x_test = dataFrameTesting[[\n",
    "        'Pregnancies',\n",
    "        'Glucose',\n",
    "        'BloodPressure',\n",
    "        'SkinThickness',\n",
    "        'Insulin',\n",
    "        'BMI',\n",
    "        'DiabetesPedigreeFunction',\n",
    "        'Age'\n",
    "    ]].values\n",
    "\n",
    "    y_test = dataFrameTesting['Outcome']\n",
    "    return x_train, y_train, x_test, y_test\n",
    "\n",
    "#Funciones para graficar las metricas\n",
    "def printAccGraph(lst):\n",
    "    acc = []\n",
    "    for i in range(0, len(lst)):\n",
    "        acc.append(lst[i]['acc'])\n",
    "    plt.plot(acc)\n",
    "    plt.title('Accuracy')\n",
    "    plt.xlabel('Iteraciones')\n",
    "    plt.ylabel('Accuracy')\n",
    "    plt.grid(True)\n",
    "    plt.show()\n",
    "\n",
    "def printPrecGraph(lst):\n",
    "    prec = []\n",
    "    for i in range(0, len(lst)):\n",
    "        prec.append(lst[i]['prec'])\n",
    "    plt.plot(prec)\n",
    "    plt.title('Precision')\n",
    "    plt.xlabel('Iteraciones')\n",
    "    plt.ylabel('Precision')\n",
    "    plt.grid(True)\n",
    "    plt.show()\n",
    "\n",
    "def printRecGraph(lst):\n",
    "    rec = []\n",
    "    for i in range(0, len(lst)):\n",
    "        rec.append(lst[i]['rec'])\n",
    "    plt.plot(rec)\n",
    "    plt.title('Recall')\n",
    "    plt.xlabel('Iteraciones')\n",
    "    plt.ylabel('Recall')\n",
    "    plt.grid(True)\n",
    "    plt.show()\n",
    "\n",
    "def printF1Graph(lst):\n",
    "    f1 = []\n",
    "    for i in range(0, len(lst)):\n",
    "        f1.append(lst[i]['f1'])\n",
    "    plt.plot(f1)\n",
    "    plt.title('F1')\n",
    "    plt.xlabel('Iteraciones')\n",
    "    plt.ylabel('F1')\n",
    "    plt.grid(True)\n",
    "    plt.show()\n",
    "\n",
    "def printAucGraph(lst):\n",
    "    auc = []\n",
    "    for i in range(0, len(lst)):\n",
    "        auc.append(lst[i]['auc'])\n",
    "    plt.plot(auc)\n",
    "    plt.title('AUC')\n",
    "    plt.xlabel('Iteraciones')\n",
    "    plt.ylabel('AUC')\n",
    "    plt.grid(True)\n",
    "    plt.show()"
   ]
  },
  {
   "cell_type": "markdown",
   "metadata": {},
   "source": [
    "## KNN y metricas del KNN"
   ]
  },
  {
   "cell_type": "markdown",
   "metadata": {},
   "source": [
    "### KNN con data set sin outliers"
   ]
  },
  {
   "cell_type": "code",
   "execution_count": null,
   "metadata": {},
   "outputs": [],
   "source": [
    "x_train, y_train, x_test, y_test = xyDivide(dataFrameTraining, dataFrameTesting)\n",
    "lst = []\n",
    "\n",
    "for i in range(1,101):\n",
    "    knn = KNeighborsClassifier(n_neighbors=i)\n",
    "    knn.fit(x_train, y_train)\n",
    "    y_pred = knn.predict(x_test)\n",
    "    \n",
    "    acc = accuracy_score(y_test, y_pred)\n",
    "    prec = precision_score(y_test, y_pred)\n",
    "    rec = recall_score(y_test, y_pred)\n",
    "    f1 = f1_score(y_test, y_pred)\n",
    "    roc = roc_curve(y_test, y_pred)\n",
    "    auc = roc_auc_score(y_test, y_pred)\n",
    "    lst.append({\"k\": i, \"acc\": acc, \"prec\": prec, \"rec\": rec, \"f1\": f1, \"auc\": auc, \"roc\": roc})\n",
    "\n",
    "\n",
    "maxAuc = max(lst, key=lambda x:x['auc'])\n",
    "maxPrec = max(lst, key=lambda x:x['prec'])\n",
    "maxRec = max(lst, key=lambda x:x['rec'])\n",
    "maxF1 = max(lst, key=lambda x:x['f1'])\n",
    "maxAcc = max(lst, key=lambda x:x['acc'])\n",
    "\n",
    "print(\"Max AUC\")\n",
    "print(f\"k = {maxAuc['k']} || AUC = {maxAuc['auc']} || Precision = {maxAuc['prec']} || Recall = {maxAuc['rec']} || F1 = {maxAuc['f1']} || Accuracy = {maxAuc['acc']}\")\n",
    "print(\"Max Percision\")\n",
    "print(f\"k = {maxPrec['k']} || AUC = {maxPrec['auc']} || Precision = {maxPrec['prec']} || Recall = {maxPrec['rec']} || F1 = {maxPrec['f1']} || Accuracy = {maxPrec['acc']}\")\n",
    "print(\"Max Recall\")\n",
    "print(f\"k = {maxRec['k']} || AUC = {maxRec['auc']} || Precision = {maxRec['prec']} || Recall = {maxRec['rec']} || F1 = {maxRec['f1']} || Accuracy = {maxRec['acc']}\")\n",
    "print(\"Max F1\")\n",
    "print(f\"k = {maxF1['k']} || AUC = {maxF1['auc']} || Precision = {maxF1['prec']} || Recall = {maxF1['rec']} || F1 = {maxF1['f1']} || Accuracy = {maxF1['acc']}\")\n",
    "print(\"Max Accuracy\")\n",
    "print(f\"k = {maxAcc['k']} || AUC = {maxAcc['auc']} || Precision = {maxAcc['prec']} || Recall = {maxAcc['rec']} || F1 = {maxAcc['f1']} || Accuracy = {maxAcc['acc']}\")\n",
    "\n",
    "printAccGraph(lst)\n",
    "printPrecGraph(lst)\n",
    "printRecGraph(lst)\n",
    "printF1Graph(lst)\n",
    "printAucGraph(lst)\n",
    "\n",
    "\n",
    "'''plt.plot(roc[0], roc[1], label=f\"K = {i}\")\n",
    "plt.xlabel(\"False Positive Rate\")\n",
    "plt.ylabel(\"True Positive Rate\")\n",
    "plt.title(\"ROC Curve\")\n",
    "plt.grid(True)\n",
    "plt.legend()\n",
    "plt.show()'''"
   ]
  },
  {
   "cell_type": "markdown",
   "metadata": {},
   "source": [
    "### KNN data set sin ceros"
   ]
  },
  {
   "cell_type": "code",
   "execution_count": null,
   "metadata": {},
   "outputs": [],
   "source": [
    "x_train, y_train, x_test, y_test = xyDivide(dataFrameTraining_sin_ceros, dataFrameTesting_sin_ceros)\n",
    "lst = []\n",
    "\n",
    "for i in range(1,101):\n",
    "    knn = KNeighborsClassifier(n_neighbors=i)\n",
    "    knn.fit(x_train, y_train)\n",
    "    y_pred = knn.predict(x_test)\n",
    "    \n",
    "    acc = accuracy_score(y_test, y_pred)\n",
    "    prec = precision_score(y_test, y_pred)\n",
    "    rec = recall_score(y_test, y_pred)\n",
    "    f1 = f1_score(y_test, y_pred)\n",
    "    roc = roc_curve(y_test, y_pred)\n",
    "    auc = roc_auc_score(y_test, y_pred)\n",
    "    lst.append({\"k\": i, \"acc\": acc, \"prec\": prec, \"rec\": rec, \"f1\": f1, \"auc\": auc, \"roc\": roc})\n",
    "\n",
    "\n",
    "maxAuc = max(lst, key=lambda x:x['auc'])\n",
    "maxPrec = max(lst, key=lambda x:x['prec'])\n",
    "maxRec = max(lst, key=lambda x:x['rec'])\n",
    "maxF1 = max(lst, key=lambda x:x['f1'])\n",
    "maxAcc = max(lst, key=lambda x:x['acc'])\n",
    "\n",
    "print(\"Max AUC\")\n",
    "print(f\"k = {maxAuc['k']} || AUC = {maxAuc['auc']} || Precision = {maxAuc['prec']} || Recall = {maxAuc['rec']} || F1 = {maxAuc['f1']} || Accuracy = {maxAuc['acc']}\")\n",
    "print(\"Max Percision\")\n",
    "print(f\"k = {maxPrec['k']} || AUC = {maxPrec['auc']} || Precision = {maxPrec['prec']} || Recall = {maxPrec['rec']} || F1 = {maxPrec['f1']} || Accuracy = {maxPrec['acc']}\")\n",
    "print(\"Max Recall\")\n",
    "print(f\"k = {maxRec['k']} || AUC = {maxRec['auc']} || Precision = {maxRec['prec']} || Recall = {maxRec['rec']} || F1 = {maxRec['f1']} || Accuracy = {maxRec['acc']}\")\n",
    "print(\"Max F1\")\n",
    "print(f\"k = {maxF1['k']} || AUC = {maxF1['auc']} || Precision = {maxF1['prec']} || Recall = {maxF1['rec']} || F1 = {maxF1['f1']} || Accuracy = {maxF1['acc']}\")\n",
    "print(\"Max Accuracy\")\n",
    "print(f\"k = {maxAcc['k']} || AUC = {maxAcc['auc']} || Precision = {maxAcc['prec']} || Recall = {maxAcc['rec']} || F1 = {maxAcc['f1']} || Accuracy = {maxAcc['acc']}\")\n",
    "\n",
    "printAccGraph(lst)\n",
    "printPrecGraph(lst)\n",
    "printRecGraph(lst)\n",
    "printF1Graph(lst)\n",
    "printAucGraph(lst)\n",
    "\n",
    "\n",
    "'''plt.plot(roc[0], roc[1], label=f\"K = {i}\")\n",
    "plt.xlabel(\"False Positive Rate\")\n",
    "plt.ylabel(\"True Positive Rate\")\n",
    "plt.title(\"ROC Curve\")\n",
    "plt.grid(True)\n",
    "plt.legend()\n",
    "plt.show()'''"
   ]
  },
  {
   "cell_type": "markdown",
   "metadata": {},
   "source": [
    "### KNN data set normalizado"
   ]
  },
  {
   "cell_type": "code",
   "execution_count": null,
   "metadata": {},
   "outputs": [],
   "source": [
    "x_train, y_train, x_test, y_test = xyDivide(dataFrameTraining, dataFrameTesting)\n",
    "lst = []\n",
    "\n",
    "for i in range(1,101):\n",
    "    knn = KNeighborsClassifier(n_neighbors=i)\n",
    "    knn.fit(x_train, y_train)\n",
    "    y_pred = knn.predict(x_test)\n",
    "    \n",
    "    acc = accuracy_score(y_test, y_pred)\n",
    "    prec = precision_score(y_test, y_pred)\n",
    "    rec = recall_score(y_test, y_pred)\n",
    "    f1 = f1_score(y_test, y_pred)\n",
    "    roc = roc_curve(y_test, y_pred)\n",
    "    auc = roc_auc_score(y_test, y_pred)\n",
    "    lst.append({\"k\": i, \"acc\": acc, \"prec\": prec, \"rec\": rec, \"f1\": f1, \"auc\": auc, \"roc\": roc})\n",
    "\n",
    "\n",
    "maxAuc = max(lst, key=lambda x:x['auc'])\n",
    "maxPrec = max(lst, key=lambda x:x['prec'])\n",
    "maxRec = max(lst, key=lambda x:x['rec'])\n",
    "maxF1 = max(lst, key=lambda x:x['f1'])\n",
    "maxAcc = max(lst, key=lambda x:x['acc'])\n",
    "\n",
    "print(\"Max AUC\")\n",
    "print(f\"k = {maxAuc['k']} || AUC = {maxAuc['auc']} || Precision = {maxAuc['prec']} || Recall = {maxAuc['rec']} || F1 = {maxAuc['f1']} || Accuracy = {maxAuc['acc']}\")\n",
    "print(\"Max Percision\")\n",
    "print(f\"k = {maxPrec['k']} || AUC = {maxPrec['auc']} || Precision = {maxPrec['prec']} || Recall = {maxPrec['rec']} || F1 = {maxPrec['f1']} || Accuracy = {maxPrec['acc']}\")\n",
    "print(\"Max Recall\")\n",
    "print(f\"k = {maxRec['k']} || AUC = {maxRec['auc']} || Precision = {maxRec['prec']} || Recall = {maxRec['rec']} || F1 = {maxRec['f1']} || Accuracy = {maxRec['acc']}\")\n",
    "print(\"Max F1\")\n",
    "print(f\"k = {maxF1['k']} || AUC = {maxF1['auc']} || Precision = {maxF1['prec']} || Recall = {maxF1['rec']} || F1 = {maxF1['f1']} || Accuracy = {maxF1['acc']}\")\n",
    "print(\"Max Accuracy\")\n",
    "print(f\"k = {maxAcc['k']} || AUC = {maxAcc['auc']} || Precision = {maxAcc['prec']} || Recall = {maxAcc['rec']} || F1 = {maxAcc['f1']} || Accuracy = {maxAcc['acc']}\")\n",
    "\n",
    "printAccGraph(lst)\n",
    "printPrecGraph(lst)\n",
    "printRecGraph(lst)\n",
    "printF1Graph(lst)\n",
    "printAucGraph(lst)\n",
    "\n",
    "\n",
    "'''plt.plot(roc[0], roc[1], label=f\"K = {i}\")\n",
    "plt.xlabel(\"False Positive Rate\")\n",
    "plt.ylabel(\"True Positive Rate\")\n",
    "plt.title(\"ROC Curve\")\n",
    "plt.grid(True)\n",
    "plt.legend()\n",
    "plt.show()'''"
   ]
  },
  {
   "cell_type": "markdown",
   "metadata": {},
   "source": [
    "# Carga del dataset \"The Spotify Hit Predictor Dataset (1960-2019)\" específico del 2010 al 2019"
   ]
  },
  {
   "cell_type": "code",
   "execution_count": null,
   "metadata": {},
   "outputs": [],
   "source": [
    "data = pd.read_csv('dataset-of-10s.csv')\n",
    "print(\"data head\")\n",
    "display(data.head())\n",
    "print(\"data info\")\n",
    "display(data.describe())"
   ]
  }
 ],
 "metadata": {
  "kernelspec": {
   "display_name": "Python 3",
   "language": "python",
   "name": "python3"
  },
  "language_info": {
   "codemirror_mode": {
    "name": "ipython",
    "version": 3
   },
   "file_extension": ".py",
   "mimetype": "text/x-python",
   "name": "python",
   "nbconvert_exporter": "python",
   "pygments_lexer": "ipython3",
   "version": "3.12.2"
  }
 },
 "nbformat": 4,
 "nbformat_minor": 2
}
