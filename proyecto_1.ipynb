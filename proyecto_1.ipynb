{
 "cells": [
  {
   "cell_type": "markdown",
   "metadata": {},
   "source": [
    "# Proyecto I \n",
    "* Monica Alfaro Parrales\n",
    "* Adrián Ramírez Mattey\n",
    "* Gilberth Rodríguez Mejías "
   ]
  },
  {
   "cell_type": "markdown",
   "metadata": {},
   "source": [
    "## Carga del dataset \"Pima Indians Diabetes Database\""
   ]
  },
  {
   "cell_type": "code",
   "execution_count": 3,
   "metadata": {},
   "outputs": [],
   "source": [
    "import pandas as pd\n",
    "import numpy as np\n",
    "import seaborn as sns\n",
    "import matplotlib.pyplot as plt\n",
    "from sklearn.utils import shuffle\n",
    "from sklearn.model_selection import train_test_split\n",
    "from IPython.display import display\n",
    "from sklearn.neighbors import KNeighborsClassifier\n",
    "from sklearn.linear_model import LogisticRegression\n",
    "from sklearn.metrics import accuracy_score, precision_score, recall_score, f1_score, roc_curve, roc_auc_score"
   ]
  },
  {
   "cell_type": "code",
   "execution_count": null,
   "metadata": {},
   "outputs": [],
   "source": [
    "data = pd.read_csv('diabetes.csv')\n",
    "print(\"data head\")\n",
    "display(data.head())\n",
    "print(\"data describe\")\n",
    "display(data.describe())\n",
    "display(data)\n",
    "\n",
    "X = data[[\n",
    "    'Pregnancies',\n",
    "    'Glucose',\n",
    "    'BloodPressure',\n",
    "    'SkinThickness',\n",
    "    'Insulin',\n",
    "    'BMI',\n",
    "    'DiabetesPedigreeFunction',\n",
    "    'Age'\n",
    "]].values\n",
    "\n",
    "y = data['Outcome']"
   ]
  },
  {
   "cell_type": "markdown",
   "metadata": {},
   "source": [
    "## Análisis de datos\n",
    "1 = Diabetes\n",
    "\n",
    "0 = No diabetes"
   ]
  },
  {
   "cell_type": "markdown",
   "metadata": {},
   "source": [
    "### Gráficos de dispersión "
   ]
  },
  {
   "cell_type": "code",
   "execution_count": null,
   "metadata": {},
   "outputs": [],
   "source": [
    "sns.scatterplot(x='Pregnancies', y='Age', hue='Outcome', data=data, )\n",
    "\n",
    "# Mostrar el gráfico\n",
    "plt.title(\"Gráfico de Dispersión de Embarazos\")\n",
    "plt.xlabel(\"Embarazos\")\n",
    "plt.ylabel(\"Edad\")\n",
    "plt.show()"
   ]
  },
  {
   "cell_type": "code",
   "execution_count": null,
   "metadata": {},
   "outputs": [],
   "source": [
    "sns.scatterplot(x='Glucose', y='Age', hue='Outcome', data=data, )\n",
    "\n",
    "# Mostrar el gráfico\n",
    "plt.title(\"Gráfico de Dispersión de Glucosa\")\n",
    "plt.xlabel(\"Glucosa\")\n",
    "plt.ylabel(\"Edad\")\n",
    "plt.show()"
   ]
  },
  {
   "cell_type": "code",
   "execution_count": null,
   "metadata": {},
   "outputs": [],
   "source": [
    "sns.scatterplot(x='BloodPressure', y='Age', hue='Outcome', data=data, )\n",
    "\n",
    "# Mostrar el gráfico\n",
    "plt.title(\"Gráfico de Dispersión de Presión Arterial\")\n",
    "plt.xlabel(\"Presión arterial\")\n",
    "plt.ylabel(\"Edad\")\n",
    "plt.show()"
   ]
  },
  {
   "cell_type": "code",
   "execution_count": null,
   "metadata": {},
   "outputs": [],
   "source": [
    "sns.scatterplot(x='SkinThickness', y='Age', hue='Outcome', data=data, )\n",
    "\n",
    "# Mostrar el gráfico\n",
    "plt.title(\"Gráfico de Dispersión de Grosor de la piel\")\n",
    "plt.xlabel(\"Grosor de la piel\")\n",
    "plt.ylabel(\"Edad\")\n",
    "plt.show()"
   ]
  },
  {
   "cell_type": "code",
   "execution_count": null,
   "metadata": {},
   "outputs": [],
   "source": [
    "sns.scatterplot(x='Insulin', y='Age', hue='Outcome', data=data, )\n",
    "\n",
    "# Mostrar el gráfico\n",
    "plt.title(\"Gráfico de Dispersión de Insulina\")\n",
    "plt.xlabel(\"Insulina\")\n",
    "plt.ylabel(\"Edad\")\n",
    "plt.show()"
   ]
  },
  {
   "cell_type": "code",
   "execution_count": null,
   "metadata": {},
   "outputs": [],
   "source": [
    "sns.scatterplot(x='BMI', y='Age', hue='Outcome', data=data, )\n",
    "\n",
    "# Mostrar el gráfico\n",
    "plt.title(\"Gráfico de Dispersión de BMI\")\n",
    "plt.xlabel(\"BMI\")\n",
    "plt.ylabel(\"Edad\")\n",
    "plt.show()"
   ]
  },
  {
   "cell_type": "code",
   "execution_count": null,
   "metadata": {},
   "outputs": [],
   "source": [
    "sns.scatterplot(x='DiabetesPedigreeFunction', y='Age', hue='Outcome', data=data, )\n",
    "\n",
    "# Mostrar el gráfico\n",
    "plt.title(\"Gráfico de Dispersión de Diabetes Pedigree\")\n",
    "plt.xlabel(\"Diabetes Pedigree\")\n",
    "plt.ylabel(\"Edad\")\n",
    "plt.show()"
   ]
  },
  {
   "cell_type": "markdown",
   "metadata": {},
   "source": [
    "\n",
    "### Histogramas"
   ]
  },
  {
   "cell_type": "code",
   "execution_count": null,
   "metadata": {},
   "outputs": [],
   "source": [
    "dataGroup = data.groupby('Outcome')\n",
    "plt.figure(figsize=(15, 8))\n",
    "plt.hist(dataGroup['Pregnancies'].get_group(0), bins=30, alpha=0.5, label='0')\n",
    "plt.hist(dataGroup['Pregnancies'].get_group(1), bins=30, alpha=0.5, label='1')\n",
    "plt.title('Histograma de Diabetes - Embarazos')\n",
    "plt.xlabel('Embarazos')\n",
    "plt.ylabel('Personas')\n",
    "plt.grid(True)\n",
    "plt.legend()\n",
    "plt.show()"
   ]
  },
  {
   "cell_type": "code",
   "execution_count": null,
   "metadata": {},
   "outputs": [],
   "source": [
    "plt.figure(figsize=(15, 8))\n",
    "plt.hist(dataGroup['Glucose'].get_group(0), bins=30, alpha=0.5, label='0')\n",
    "plt.hist(dataGroup['Glucose'].get_group(1), bins=30, alpha=0.5, label='1')\n",
    "plt.title('Histograma de Diabetes - Glucosa')\n",
    "plt.xlabel('Glucosa')\n",
    "plt.ylabel('Personas')\n",
    "plt.grid(True)\n",
    "plt.legend()\n",
    "plt.show()"
   ]
  },
  {
   "cell_type": "code",
   "execution_count": null,
   "metadata": {},
   "outputs": [],
   "source": [
    "plt.figure(figsize=(15, 8))\n",
    "plt.hist(dataGroup['Insulin'].get_group(0), bins=30, alpha=0.5, label='0')\n",
    "plt.hist(dataGroup['Insulin'].get_group(1), bins=30, alpha=0.5, label='1')\n",
    "plt.title('Histograma de Diabetes - Insulina')\n",
    "plt.xlabel('Insulina')\n",
    "plt.ylabel('Personas')\n",
    "plt.grid(True)\n",
    "plt.legend()\n",
    "plt.show()"
   ]
  },
  {
   "cell_type": "code",
   "execution_count": null,
   "metadata": {},
   "outputs": [],
   "source": [
    "plt.figure(figsize=(15, 8))\n",
    "plt.hist(dataGroup['BMI'].get_group(0), bins=30, alpha=0.5, label='0')\n",
    "plt.hist(dataGroup['BMI'].get_group(1), bins=30, alpha=0.5, label='1')\n",
    "plt.title('Histograma de Diabetes - BMI')\n",
    "plt.xlabel('BMI')\n",
    "plt.ylabel('Personas')\n",
    "plt.grid(True)\n",
    "plt.legend()\n",
    "plt.show()"
   ]
  },
  {
   "cell_type": "code",
   "execution_count": null,
   "metadata": {},
   "outputs": [],
   "source": [
    "plt.figure(figsize=(15, 8))\n",
    "plt.hist(dataGroup['DiabetesPedigreeFunction'].get_group(0), bins=30, alpha=0.5, label='0')\n",
    "plt.hist(dataGroup['DiabetesPedigreeFunction'].get_group(1), bins=30, alpha=0.5, label='1')\n",
    "plt.title('Histograma de Diabetes - DiabetesPedigreeFunction')\n",
    "plt.xlabel('DiabetesPedigreeFunction')\n",
    "plt.ylabel('Personas')\n",
    "plt.grid(True)\n",
    "plt.legend()\n",
    "plt.show()"
   ]
  },
  {
   "cell_type": "code",
   "execution_count": null,
   "metadata": {},
   "outputs": [],
   "source": [
    "plt.figure(figsize=(15, 8))\n",
    "plt.hist(dataGroup['Age'].get_group(0), bins=30, alpha=0.5, label='0')\n",
    "plt.hist(dataGroup['Age'].get_group(1), bins=30, alpha=0.5, label='1')\n",
    "plt.title('Histograma de Diabetes - Edad')\n",
    "plt.xlabel('Edad')\n",
    "plt.ylabel('Personas')\n",
    "plt.grid(True)\n",
    "plt.legend()\n",
    "plt.show()"
   ]
  },
  {
   "cell_type": "markdown",
   "metadata": {},
   "source": [
    "## Eliminación de outliers y división del dataset\n",
    "Se procede a hacer uso de IQR, el rango intercuartil (IQR) es la diferencia entre el percentil 75 y el 25 de los datos. Es una medida de dispersión similar a la desviación estándar o la varianza, pero es mucho más robusta frente a valores atípicos. Posteriormente, se hace un shuffle de la data para asegurar una mayor distribución y se divide el dataset en un 80% training y 20% testing. "
   ]
  },
  {
   "cell_type": "code",
   "execution_count": null,
   "metadata": {},
   "outputs": [],
   "source": [
    "# Calcula el IQR\n",
    "Q1 = data.quantile(0.25)\n",
    "Q3 = data.quantile(0.75)\n",
    "IQR = Q3 - Q1\n",
    "\n",
    "# Identifica los outliers\n",
    "outliers = ((data < (Q1 - 1.5 * IQR)) | (data > (Q3 + 1.5 * IQR)))\n",
    "\n",
    "# Encuentra las filas que tienen al menos un outlier\n",
    "outliers_indices = outliers.any(axis=1)\n",
    "\n",
    "# Muestra las filas con outliers\n",
    "print(\"Filas con outliers:\")\n",
    "display(data[outliers_indices])\n",
    "\n",
    "# Elimina los outliers\n",
    "data_sin_outliers = data[~outliers_indices]\n",
    "\n",
    "# Muestra el conjunto de datos sin outliers\n",
    "print(\"Data sin outliers:\")\n",
    "display(data_sin_outliers)"
   ]
  },
  {
   "cell_type": "markdown",
   "metadata": {},
   "source": [
    "### Gráficos de dispersión posterior a eliminación de outliers"
   ]
  },
  {
   "cell_type": "code",
   "execution_count": null,
   "metadata": {},
   "outputs": [],
   "source": [
    "sns.scatterplot(x='Pregnancies', y='Age', hue='Outcome', data=data_sin_outliers, )\n",
    "\n",
    "# Mostrar el gráfico\n",
    "plt.title(\"Gráfico de Dispersión de Embarazos (no outliers)\")\n",
    "plt.xlabel(\"Embarazos\")\n",
    "plt.ylabel(\"Edad\")\n",
    "plt.show()"
   ]
  },
  {
   "cell_type": "code",
   "execution_count": null,
   "metadata": {},
   "outputs": [],
   "source": [
    "sns.scatterplot(x='Glucose', y='Age', hue='Outcome', data=data_sin_outliers )\n",
    "\n",
    "# Mostrar el gráfico\n",
    "plt.title(\"Gráfico de Dispersión de Glucosa (no outliers)\")\n",
    "plt.xlabel(\"Glucosa\")\n",
    "plt.ylabel(\"Edad\")\n",
    "plt.show()\n"
   ]
  },
  {
   "cell_type": "code",
   "execution_count": null,
   "metadata": {},
   "outputs": [],
   "source": [
    "sns.scatterplot(x='BloodPressure', y='Age', hue='Outcome', data=data_sin_outliers, )\n",
    "\n",
    "# Mostrar el gráfico\n",
    "plt.title(\"Gráfico de Dispersión de Presión Arterial (no outliers)\")\n",
    "plt.xlabel(\"Presión arterial\")\n",
    "plt.ylabel(\"Edad\")\n",
    "plt.show()\n"
   ]
  },
  {
   "cell_type": "code",
   "execution_count": null,
   "metadata": {},
   "outputs": [],
   "source": [
    "sns.scatterplot(x='SkinThickness', y='Age', hue='Outcome', data=data_sin_outliers, )\n",
    "\n",
    "# Mostrar el gráfico\n",
    "plt.title(\"Gráfico de Dispersión de Grosor de la piel (no outliers)\")\n",
    "plt.xlabel(\"Grosor de la piel\")\n",
    "plt.ylabel(\"Edad\")\n",
    "plt.show()"
   ]
  },
  {
   "cell_type": "code",
   "execution_count": null,
   "metadata": {},
   "outputs": [],
   "source": [
    "sns.scatterplot(x='Insulin', y='Age', hue='Outcome', data=data_sin_outliers )\n",
    "\n",
    "# Mostrar el gráfico\n",
    "plt.title(\"Gráfico de Dispersión de Insulina (no outliers)\")\n",
    "plt.xlabel(\"Insulina\")\n",
    "plt.ylabel(\"Edad\")\n",
    "plt.show()"
   ]
  },
  {
   "cell_type": "code",
   "execution_count": null,
   "metadata": {},
   "outputs": [],
   "source": [
    "sns.scatterplot(x='BMI', y='Age', hue='Outcome', data=data_sin_outliers)\n",
    "\n",
    "# Mostrar el gráfico\n",
    "plt.title(\"Gráfico de Dispersión de BMI (no outliers)\")\n",
    "plt.xlabel(\"BMI\")\n",
    "plt.ylabel(\"Edad\")\n",
    "plt.show()"
   ]
  },
  {
   "cell_type": "code",
   "execution_count": null,
   "metadata": {},
   "outputs": [],
   "source": [
    "sns.scatterplot(x='DiabetesPedigreeFunction', y='Age', hue='Outcome', data=data_sin_outliers, )\n",
    "\n",
    "# Mostrar el gráfico\n",
    "plt.title(\"Gráfico de Dispersión de Diabetes Pedigree (no outliers)\")\n",
    "plt.xlabel(\"Diabetes Pedigree\")\n",
    "plt.ylabel(\"Edad\")\n",
    "plt.show()"
   ]
  },
  {
   "cell_type": "markdown",
   "metadata": {},
   "source": [
    "### División del dataset"
   ]
  },
  {
   "cell_type": "code",
   "execution_count": null,
   "metadata": {},
   "outputs": [],
   "source": [
    "# Antes de dividir los datos, barajamos el dataset de forma aleatoria para mayor diversidad de datos\n",
    "dataset_shuffled = shuffle(data_sin_outliers, random_state=20)  # random_state para reproducibilidad\n",
    "# random_state = 50 malos resultados en el modelo || random_state = 20 buenos resultados en el modelo\n",
    "\n",
    "# Dividir los datos en conjunto de entrenamiento y prueba\n",
    "p_train = 0.8  # Porcentaje de training set\n",
    "train_index = int(len(dataset_shuffled) * p_train)\n",
    "\n",
    "dataFrameTraining = dataset_shuffled[:train_index]\n",
    "\n",
    "dataFrameTesting = dataset_shuffled[train_index:]\n",
    "\n",
    "print(\"Ejemplos usados para entrenar: \", len(dataFrameTraining))\n",
    "print(\"Ejemplos usados para test: \", len(dataFrameTesting))"
   ]
  },
  {
   "cell_type": "code",
   "execution_count": 27,
   "metadata": {},
   "outputs": [],
   "source": [
    "def printAccGraph(lst):\n",
    "    acc = []\n",
    "    for i in range(0, len(lst)):\n",
    "        acc.append(lst[i]['acc'])\n",
    "    plt.plot(acc)\n",
    "    plt.title('Accuracy')\n",
    "    plt.xlabel('Iteraciones')\n",
    "    plt.ylabel('Accuracy')\n",
    "    plt.grid(True)\n",
    "    plt.show()\n",
    "\n",
    "def printPrecGraph(lst):\n",
    "    prec = []\n",
    "    for i in range(0, len(lst)):\n",
    "        prec.append(lst[i]['prec'])\n",
    "    plt.plot(prec)\n",
    "    plt.title('Precision')\n",
    "    plt.xlabel('Iteraciones')\n",
    "    plt.ylabel('Precision')\n",
    "    plt.grid(True)\n",
    "    plt.show()\n",
    "\n",
    "def printRecGraph(lst):\n",
    "    rec = []\n",
    "    for i in range(0, len(lst)):\n",
    "        rec.append(lst[i]['rec'])\n",
    "    plt.plot(rec)\n",
    "    plt.title('Recall')\n",
    "    plt.xlabel('Iteraciones')\n",
    "    plt.ylabel('Recall')\n",
    "    plt.grid(True)\n",
    "    plt.show()\n",
    "\n",
    "def printF1Graph(lst):\n",
    "    f1 = []\n",
    "    for i in range(0, len(lst)):\n",
    "        f1.append(lst[i]['f1'])\n",
    "    plt.plot(f1)\n",
    "    plt.title('F1')\n",
    "    plt.xlabel('Iteraciones')\n",
    "    plt.ylabel('F1')\n",
    "    plt.grid(True)\n",
    "    plt.show()\n",
    "\n",
    "def printAucGraph(lst):\n",
    "    auc = []\n",
    "    for i in range(0, len(lst)):\n",
    "        auc.append(lst[i]['auc'])\n",
    "    plt.plot(auc)\n",
    "    plt.title('AUC')\n",
    "    plt.xlabel('Iteraciones')\n",
    "    plt.ylabel('AUC')\n",
    "    plt.grid(True)\n",
    "    plt.show()"
   ]
  },
  {
   "cell_type": "markdown",
   "metadata": {},
   "source": [
    "## KNN y metricas del KNN"
   ]
  },
  {
   "cell_type": "code",
   "execution_count": null,
   "metadata": {},
   "outputs": [],
   "source": [
    "x_train = dataFrameTraining[[\n",
    "    'Pregnancies',\n",
    "    'Glucose',\n",
    "    'BloodPressure',\n",
    "    'SkinThickness',\n",
    "    'Insulin',\n",
    "    'BMI',\n",
    "    'DiabetesPedigreeFunction',\n",
    "    'Age'\n",
    "]].values\n",
    "\n",
    "y_train = dataFrameTraining['Outcome']\n",
    "\n",
    "x_test = dataFrameTesting[[\n",
    "    'Pregnancies',\n",
    "    'Glucose',\n",
    "    'BloodPressure',\n",
    "    'SkinThickness',\n",
    "    'Insulin',\n",
    "    'BMI',\n",
    "    'DiabetesPedigreeFunction',\n",
    "    'Age'\n",
    "]].values\n",
    "\n",
    "y_test = dataFrameTesting['Outcome']\n",
    "\n",
    "lst = []\n",
    "\n",
    "for i in range(1,101):\n",
    "    knn = KNeighborsClassifier(n_neighbors=i)\n",
    "    knn.fit(x_train, y_train)\n",
    "    y_pred = knn.predict(x_test)\n",
    "    \n",
    "    acc = accuracy_score(y_test, y_pred)\n",
    "    prec = precision_score(y_test, y_pred)\n",
    "    rec = recall_score(y_test, y_pred)\n",
    "    f1 = f1_score(y_test, y_pred)\n",
    "    roc = roc_curve(y_test, y_pred)\n",
    "    auc = roc_auc_score(y_test, y_pred)\n",
    "    lst.append({\"k\": i, \"acc\": acc, \"prec\": prec, \"rec\": rec, \"f1\": f1, \"auc\": auc, \"roc\": roc})\n",
    "\n",
    "\n",
    "maxAuc = max(lst, key=lambda x:x['auc'])\n",
    "maxPrec = max(lst, key=lambda x:x['prec'])\n",
    "maxRec = max(lst, key=lambda x:x['rec'])\n",
    "maxF1 = max(lst, key=lambda x:x['f1'])\n",
    "maxAcc = max(lst, key=lambda x:x['acc'])\n",
    "\n",
    "print(f\"k = {maxAuc['k']} || AUC = {maxAuc['auc']} || Precision = {maxAuc['prec']} || Recall = {maxAuc['rec']} || F1 = {maxAuc['f1']} || Accuracy = {maxAuc['acc']}\")\n",
    "print(f\"k = {maxPrec['k']} || AUC = {maxPrec['auc']} || Precision = {maxPrec['prec']} || Recall = {maxPrec['rec']} || F1 = {maxPrec['f1']} || Accuracy = {maxPrec['acc']}\")\n",
    "print(f\"k = {maxRec['k']} || AUC = {maxRec['auc']} || Precision = {maxRec['prec']} || Recall = {maxRec['rec']} || F1 = {maxRec['f1']} || Accuracy = {maxRec['acc']}\")\n",
    "print(f\"k = {maxF1['k']} || AUC = {maxF1['auc']} || Precision = {maxF1['prec']} || Recall = {maxF1['rec']} || F1 = {maxF1['f1']} || Accuracy = {maxF1['acc']}\")\n",
    "print(f\"k = {maxAcc['k']} || AUC = {maxAcc['auc']} || Precision = {maxAcc['prec']} || Recall = {maxAcc['rec']} || F1 = {maxAcc['f1']} || Accuracy = {maxAcc['acc']}\")\n",
    "\n",
    "printAccGraph(lst)\n",
    "printPrecGraph(lst)\n",
    "printRecGraph(lst)\n",
    "printF1Graph(lst)\n",
    "printAucGraph(lst)\n",
    "\n",
    "\n",
    "#plt.plot(roc[0], roc[1], label=f\"K = {i}\")\n",
    "#plt.xlabel(\"False Positive Rate\")\n",
    "#plt.ylabel(\"True Positive Rate\")\n",
    "#plt.title(\"ROC Curve\")\n",
    "#plt.grid(True)\n",
    "#plt.legend()\n",
    "#plt.show()"
   ]
  },
  {
   "cell_type": "markdown",
   "metadata": {},
   "source": [
    "## Regresión Logísticas y métricas"
   ]
  },
  {
   "cell_type": "code",
   "execution_count": 29,
   "metadata": {},
   "outputs": [
    {
     "data": {
      "text/plain": [
       "{'c': 100,\n",
       " 'max_iter': 200,\n",
       " 'acc': 0.8125,\n",
       " 'prec': 0.7241379310344828,\n",
       " 'rec': 0.5675675675675675,\n",
       " 'f1': 0.6363636363636364,\n",
       " 'auc': 0.7398277398277397,\n",
       " 'roc': (array([0.        , 0.08791209, 1.        ]),\n",
       "  array([0.        , 0.56756757, 1.        ]),\n",
       "  array([inf,  1.,  0.]))}"
      ]
     },
     "metadata": {},
     "output_type": "display_data"
    }
   ],
   "source": [
    "# Preparar los datasets de entrenamiento y prueba\n",
    "\n",
    "x_train = dataFrameTraining.drop('Outcome', axis=1)\n",
    "y_train = dataFrameTraining['Outcome']\n",
    "#print('Datos entrenamiento:')\n",
    "#display(x_train.head(), y_train.head())\n",
    "\n",
    "x_test = dataFrameTesting.drop('Outcome', axis=1)\n",
    "y_test = dataFrameTesting['Outcome']\n",
    "#print('Datos prueba:')\n",
    "#display(x_test.head(), y_test.head())\n",
    "\n",
    "# hiper parámetros:\n",
    "# C: Inverso de la fuerza de regulación,\n",
    "# max_iter: cantidad máxima de iteraciones para convergencia del solver,\n",
    "# penalty: la norma de penalidad del algoritmo\n",
    "# solver: tipo de algoritmo para la optimización del problema (tiene que ir de la mano con el tipo de penalizador)\n",
    "\n",
    "lr_c = 100\n",
    "lr_max_iter = 200\n",
    "\n",
    "lr_model = LogisticRegression(C=lr_c, max_iter=lr_max_iter, )\n",
    "lr_model.fit(x_train, y_train)\n",
    "\n",
    "# Predicción y evaluación\n",
    "lr_pred = lr_model.predict(x_test)\n",
    "lr_acc = accuracy_score(y_test, lr_pred)\n",
    "lr_prec = precision_score(y_test, lr_pred)\n",
    "lr_rec = recall_score(y_test, lr_pred)\n",
    "lr_f1 = f1_score(y_test, lr_pred)\n",
    "lr_roc = roc_curve(y_test, lr_pred)\n",
    "lr_auc = roc_auc_score(y_test, lr_pred)\n",
    "\n",
    "lr_performance = {'c': lr_c, 'max_iter': lr_max_iter, 'acc': lr_acc, 'prec': lr_prec, 'rec': lr_rec, 'f1': lr_f1, 'auc': lr_auc, 'roc': lr_roc}\n",
    "\n",
    "display(lr_performance)\n",
    "\n"
   ]
  },
  {
   "cell_type": "code",
   "execution_count": 38,
   "metadata": {},
   "outputs": [
    {
     "data": {
      "image/png": "[encoded data removed]",
      "text/plain": [
       "<Figure size 1000x600 with 1 Axes>"
      ]
     },
     "metadata": {},
     "output_type": "display_data"
    },
    {
     "data": {
      "image/png": "[encoded data removed]",
      "text/plain": [
       "<Figure size 640x480 with 1 Axes>"
      ]
     },
     "metadata": {},
     "output_type": "display_data"
    },
    {
     "data": {
      "image/png": "[encoded data removed]",
      "text/plain": [
       "<Figure size 640x480 with 1 Axes>"
      ]
     },
     "metadata": {},
     "output_type": "display_data"
    },
    {
     "data": {
      "image/png": "[encoded data removed]",
      "text/plain": [
       "<Figure size 640x480 with 1 Axes>"
      ]
     },
     "metadata": {},
     "output_type": "display_data"
    },
    {
     "data": {
      "image/png": "[encoded data removed]",
      "text/plain": [
       "<Figure size 640x480 with 1 Axes>"
      ]
     },
     "metadata": {},
     "output_type": "display_data"
    },
    {
     "data": {
      "image/png": "[encoded data removed]",
      "text/plain": [
       "<Figure size 640x480 with 1 Axes>"
      ]
     },
     "metadata": {},
     "output_type": "display_data"
    }
   ],
   "source": [
    "# Cambiar periódicamente el valor C para ver si afecta el desempeño\n",
    "\n",
    "log_list = []\n",
    "\n",
    "acc_list = []\n",
    "prec_list = []\n",
    "rec_list = []\n",
    "f1_list = []\n",
    "roc_list = []\n",
    "auc_list = []\n",
    "\n",
    "c_range = list(range(100,10100, 100))\n",
    "\n",
    "for c_val in c_range:\n",
    "    log_reg = LogisticRegression(C=c_val, max_iter=lr_max_iter, )\n",
    "    log_reg.fit(x_train, y_train)\n",
    "    log_pred = log_reg.predict(x_test)\n",
    "    \n",
    "    log_acc = accuracy_score(y_test, log_pred)\n",
    "    log_prec = precision_score(y_test, log_pred)\n",
    "    log_rec = recall_score(y_test, log_pred)\n",
    "    log_f1 = f1_score(y_test, log_pred)\n",
    "    \n",
    "    log_roc = roc_curve(y_test, log_pred)\n",
    "    log_auc = roc_auc_score(y_test, log_pred)\n",
    "    \n",
    "    log_performance = {'c': c_val, 'max_iter': lr_max_iter, 'acc': log_acc, 'prec': log_prec, 'rec': log_rec, 'f1': log_f1, 'auc': log_auc, 'roc': log_roc}\n",
    "    \n",
    "    log_list.append(log_performance)\n",
    "    acc_list.append(log_acc)\n",
    "    prec_list.append(log_prec)\n",
    "    rec_list.append(log_rec)\n",
    "    f1_list.append(log_f1)\n",
    "    roc_list.append(log_roc)\n",
    "    auc_list.append(log_auc)\n",
    "\n",
    "\n",
    "fig, ax = plt.subplots(figsize=(10,6))\n",
    "ax.plot(c_range, acc_list, label='Accuracy', )\n",
    "ax.plot(c_range, prec_list, label='Precision', )\n",
    "ax.plot(c_range, rec_list, label='Recall', )\n",
    "ax.plot(c_range, f1_list, label='F1 Score', )\n",
    "ax.set_title('Métricas de Regresión Logística')\n",
    "ax.set_xlabel('Valor de C (inverso fuerza regulación)')\n",
    "ax.set_ylabel('Valor de la métrica')\n",
    "plt.grid()\n",
    "plt.legend()\n",
    "plt.show()\n",
    "\n",
    "\n",
    "printAccGraph(log_list)\n",
    "printPrecGraph(log_list)\n",
    "printRecGraph(log_list)\n",
    "printF1Graph(log_list)\n",
    "printAucGraph(log_list)\n",
    "\n"
   ]
  },
  {
   "cell_type": "markdown",
   "metadata": {},
   "source": [
    "# Carga del dataset \"The Spotify Hit Predictor Dataset (1960-2019)\" específico del 2010 al 2019"
   ]
  },
  {
   "cell_type": "code",
   "execution_count": null,
   "metadata": {},
   "outputs": [],
   "source": [
    "data_2 = pd.read_csv('dataset-of-10s.csv') #renombre de forma temporal, por favor cambiemos el nombre de estos datasets x'd\n",
    "print(\"data head\")\n",
    "display(data_2.head())\n",
    "print(\"data info\")\n",
    "display(data_2.describe())"
   ]
  }
 ],
 "metadata": {
  "kernelspec": {
   "display_name": "Python 3",
   "language": "python",
   "name": "python3"
  },
  "language_info": {
   "codemirror_mode": {
    "name": "ipython",
    "version": 3
   },
   "file_extension": ".py",
   "mimetype": "text/x-python",
   "name": "python",
   "nbconvert_exporter": "python",
   "pygments_lexer": "ipython3",
   "version": "3.10.2"
  }
 },
 "nbformat": 4,
 "nbformat_minor": 2
}
