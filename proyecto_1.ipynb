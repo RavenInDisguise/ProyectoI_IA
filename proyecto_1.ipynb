{
 "cells": [
  {
   "cell_type": "markdown",
   "metadata": {},
   "source": [
    "# Carga del dataset \"Pima Indians Diabetes Database\""
   ]
  },
  {
   "cell_type": "code",
   "execution_count": 2,
   "metadata": {},
   "outputs": [],
   "source": [
    "import pandas as pd\n",
    "import matplotlib.pyplot as plt\n",
    "from sklearn.model_selection import train_test_split"
   ]
  },
  {
   "cell_type": "code",
   "execution_count": 10,
   "metadata": {},
   "outputs": [
    {
     "name": "stdout",
     "output_type": "stream",
     "text": [
      "data head\n",
      "   Pregnancies  Glucose  BloodPressure  SkinThickness  Insulin   BMI  \\\n",
      "0            6      148             72             35        0  33.6   \n",
      "1            1       85             66             29        0  26.6   \n",
      "2            8      183             64              0        0  23.3   \n",
      "3            1       89             66             23       94  28.1   \n",
      "4            0      137             40             35      168  43.1   \n",
      "\n",
      "   DiabetesPedigreeFunction  Age  Outcome  \n",
      "0                     0.627   50        1  \n",
      "1                     0.351   31        0  \n",
      "2                     0.672   32        1  \n",
      "3                     0.167   21        0  \n",
      "4                     2.288   33        1  \n",
      "data describe\n",
      "       Pregnancies     Glucose  BloodPressure  SkinThickness     Insulin  \\\n",
      "count   768.000000  768.000000     768.000000     768.000000  768.000000   \n",
      "mean      3.845052  120.894531      69.105469      20.536458   79.799479   \n",
      "std       3.369578   31.972618      19.355807      15.952218  115.244002   \n",
      "min       0.000000    0.000000       0.000000       0.000000    0.000000   \n",
      "25%       1.000000   99.000000      62.000000       0.000000    0.000000   \n",
      "50%       3.000000  117.000000      72.000000      23.000000   30.500000   \n",
      "75%       6.000000  140.250000      80.000000      32.000000  127.250000   \n",
      "max      17.000000  199.000000     122.000000      99.000000  846.000000   \n",
      "\n",
      "              BMI  DiabetesPedigreeFunction         Age     Outcome  \n",
      "count  768.000000                768.000000  768.000000  768.000000  \n",
      "mean    31.992578                  0.471876   33.240885    0.348958  \n",
      "std      7.884160                  0.331329   11.760232    0.476951  \n",
      "min      0.000000                  0.078000   21.000000    0.000000  \n",
      "25%     27.300000                  0.243750   24.000000    0.000000  \n",
      "50%     32.000000                  0.372500   29.000000    0.000000  \n",
      "75%     36.600000                  0.626250   41.000000    1.000000  \n",
      "max     67.100000                  2.420000   81.000000    1.000000  \n"
     ]
    }
   ],
   "source": [
    "data = pd.read_csv('diabetes.csv')\n",
    "print(\"data head\")\n",
    "print(data.head())\n",
    "print(\"data describe\")\n",
    "print(data.describe())"
   ]
  },
  {
   "cell_type": "markdown",
   "metadata": {},
   "source": [
    "# Carga del dataset \"The Spotify Hit Predictor Dataset (1960-2019)\" específico del 2010 al 2019"
   ]
  },
  {
   "cell_type": "code",
   "execution_count": 9,
   "metadata": {},
   "outputs": [
    {
     "name": "stdout",
     "output_type": "stream",
     "text": [
      "                                 track                          artist  \\\n",
      "0                          Wild Things                    Alessia Cara   \n",
      "1                            Surfboard                       Esquivel!   \n",
      "2                         Love Someone                    Lukas Graham   \n",
      "3  Music To My Ears (feat. Tory Lanez)                   Keys N Krates   \n",
      "4        Juju On That Beat (TZ Anthem)  Zay Hilfigerrr & Zayion McCall   \n",
      "\n",
      "                                    uri  danceability  energy  key  loudness  \\\n",
      "0  spotify:track:2ZyuwVvV6Z3XJaXIFbspeE         0.741   0.626    1    -4.826   \n",
      "1  spotify:track:61APOtq25SCMuK0V5w2Kgp         0.447   0.247    5   -14.661   \n",
      "2  spotify:track:2JqnpexlO9dmvjUMCaLCLJ         0.550   0.415    9    -6.557   \n",
      "3  spotify:track:0cjfLhk8WJ3etPTCseKXtk         0.502   0.648    0    -5.698   \n",
      "4  spotify:track:1lItf5ZXJc1by9SbPeljFd         0.807   0.887    1    -3.892   \n",
      "\n",
      "   mode  speechiness  acousticness  instrumentalness  liveness  valence  \\\n",
      "0     0       0.0886       0.02000             0.000    0.0828    0.706   \n",
      "1     0       0.0346       0.87100             0.814    0.0946    0.250   \n",
      "2     0       0.0520       0.16100             0.000    0.1080    0.274   \n",
      "3     0       0.0527       0.00513             0.000    0.2040    0.291   \n",
      "4     1       0.2750       0.00381             0.000    0.3910    0.780   \n",
      "\n",
      "     tempo  duration_ms  time_signature  chorus_hit  sections  target  \n",
      "0  108.029       188493               4    41.18681        10       1  \n",
      "1  155.489       176880               3    33.18083         9       0  \n",
      "2  172.065       205463               4    44.89147         9       1  \n",
      "3   91.837       193043               4    29.52521         7       0  \n",
      "4  160.517       144244               4    24.99199         8       1  \n",
      "       danceability       energy          key     loudness         mode  \\\n",
      "count   6398.000000  6398.000000  6398.000000  6398.000000  6398.000000   \n",
      "mean       0.568163     0.667756     5.283526    -7.589796     0.645514   \n",
      "std        0.191103     0.240721     3.606216     5.234592     0.478395   \n",
      "min        0.062200     0.000251     0.000000   -46.655000     0.000000   \n",
      "25%        0.447000     0.533000     2.000000    -8.425000     0.000000   \n",
      "50%        0.588000     0.712500     5.000000    -6.096500     1.000000   \n",
      "75%        0.710000     0.857000     8.000000    -4.601250     1.000000   \n",
      "max        0.981000     0.999000    11.000000    -0.149000     1.000000   \n",
      "\n",
      "       speechiness  acousticness  instrumentalness     liveness      valence  \\\n",
      "count  6398.000000   6398.000000       6398.000000  6398.000000  6398.000000   \n",
      "mean      0.098018      0.216928          0.165293     0.196700     0.443734   \n",
      "std       0.097224      0.296835          0.318736     0.166148     0.245776   \n",
      "min       0.022500      0.000000          0.000000     0.016700     0.000000   \n",
      "25%       0.038825      0.008533          0.000000     0.096800     0.240000   \n",
      "50%       0.057200      0.067050          0.000017     0.126000     0.434000   \n",
      "75%       0.112000      0.311000          0.057650     0.249000     0.628000   \n",
      "max       0.956000      0.996000          0.995000     0.982000     0.976000   \n",
      "\n",
      "             tempo   duration_ms  time_signature   chorus_hit     sections  \\\n",
      "count  6398.000000  6.398000e+03     6398.000000  6398.000000  6398.000000   \n",
      "mean    122.353871  2.367042e+05        3.930916    41.028399    10.316505   \n",
      "std      29.847389  8.563698e+04        0.377469    19.568827     3.776011   \n",
      "min      39.369000  2.985300e+04        0.000000     0.000000     2.000000   \n",
      "25%      98.091250  1.932068e+05        4.000000    28.059135     8.000000   \n",
      "50%     121.070000  2.212465e+05        4.000000    36.265365    10.000000   \n",
      "75%     141.085000  2.593165e+05        4.000000    48.292538    12.000000   \n",
      "max     210.977000  1.734201e+06        5.000000   213.154990    88.000000   \n",
      "\n",
      "            target  \n",
      "count  6398.000000  \n",
      "mean      0.500000  \n",
      "std       0.500039  \n",
      "min       0.000000  \n",
      "25%       0.000000  \n",
      "50%       0.500000  \n",
      "75%       1.000000  \n",
      "max       1.000000  \n"
     ]
    }
   ],
   "source": [
    "data = pd.read_csv('dataset-of-10s.csv')\n",
    "print(\"data head\")\n",
    "print(data.head())\n",
    "print(\"data info\")\n",
    "print(data.describe())"
   ]
  },
  {
   "cell_type": "code",
   "execution_count": null,
   "metadata": {},
   "outputs": [],
   "source": []
  }
 ],
 "metadata": {
  "kernelspec": {
   "display_name": "Python 3",
   "language": "python",
   "name": "python3"
  },
  "language_info": {
   "codemirror_mode": {
    "name": "ipython",
    "version": 3
   },
   "file_extension": ".py",
   "mimetype": "text/x-python",
   "name": "python",
   "nbconvert_exporter": "python",
   "pygments_lexer": "ipython3",
   "version": "3.12.2"
  }
 },
 "nbformat": 4,
 "nbformat_minor": 2
}
